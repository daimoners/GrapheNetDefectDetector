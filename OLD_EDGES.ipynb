{
 "cells": [
  {
   "cell_type": "code",
   "execution_count": 5,
   "metadata": {},
   "outputs": [],
   "source": [
    "from pathlib import Path \n",
    "from lib.lib_defect_analysis import Features\n",
    "import cv2 \n",
    "import numpy as np"
   ]
  },
  {
   "cell_type": "code",
   "execution_count": 6,
   "metadata": {},
   "outputs": [],
   "source": [
    "def extract_edge_features(\n",
    "        image: Path | np.ndarray,\n",
    "        grayscale: bool = False,\n",
    "        dest_path: Path | None = None,\n",
    "        min_area: int = 1,\n",
    "    ) -> dict:\n",
    "        # Load image as grayscale\n",
    "        if isinstance(image, Path):\n",
    "            img = cv2.imread(str(image), 0 if grayscale else -1)\n",
    "        else:\n",
    "            img = image.copy()\n",
    "\n",
    "        # Apply Canny edge detection algorithm\n",
    "        edges = cv2.Canny(img, 100, 200)\n",
    "        if dest_path is not None:\n",
    "            cv2.imwrite(str(dest_path), edges)\n",
    "\n",
    "        # Compute edge features\n",
    "        num_edges = np.sum(edges == 255)\n",
    "        edge_density = num_edges / (img.shape[0] * img.shape[1])\n",
    "\n",
    "        edge_features = {\n",
    "            \"number_of_edges\": num_edges,\n",
    "            \"edge_density\": edge_density,\n",
    "        }\n",
    "\n",
    "        return edge_features"
   ]
  },
  {
   "cell_type": "code",
   "execution_count": 7,
   "metadata": {},
   "outputs": [],
   "source": [
    "images = [f for f in Path(\"./data_tesi_new/crops\").iterdir() if f.suffix.lower() ==\".png\"]"
   ]
  },
  {
   "cell_type": "code",
   "execution_count": 8,
   "metadata": {},
   "outputs": [],
   "source": [
    "for image in images:\n",
    "\n",
    "    edge_features = extract_edge_features(image, grayscale=True,dest_path=Path(f\"./TEMP3/{image.name}\"))"
   ]
  }
 ],
 "metadata": {
  "kernelspec": {
   "display_name": "yolo",
   "language": "python",
   "name": "python3"
  },
  "language_info": {
   "codemirror_mode": {
    "name": "ipython",
    "version": 3
   },
   "file_extension": ".py",
   "mimetype": "text/x-python",
   "name": "python",
   "nbconvert_exporter": "python",
   "pygments_lexer": "ipython3",
   "version": "3.11.8"
  }
 },
 "nbformat": 4,
 "nbformat_minor": 2
}
