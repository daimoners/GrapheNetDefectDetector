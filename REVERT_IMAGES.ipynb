{
 "cells": [
  {
   "cell_type": "code",
   "execution_count": 1,
   "metadata": {},
   "outputs": [],
   "source": [
    "import cv2\n",
    "from pathlib import Path\n",
    "\n",
    "dpath = Path(\"./data_tesi_new/images_fourier\")\n",
    "dpath.mkdir(exist_ok=True, parents=True)"
   ]
  },
  {
   "cell_type": "code",
   "execution_count": 2,
   "metadata": {},
   "outputs": [],
   "source": [
    "images = [f for f in Path(\"./data_tesi_new/images\").iterdir() if f.suffix.lower() ==\".png\"]"
   ]
  },
  {
   "cell_type": "code",
   "execution_count": 3,
   "metadata": {},
   "outputs": [],
   "source": [
    "def add_padding(image, padding_size=10):\n",
    "    # Aggiungi un bordo bianco di `padding_size` pixel in ogni direzione\n",
    "    padded_image = cv2.copyMakeBorder(\n",
    "        image, \n",
    "        top=padding_size, \n",
    "        bottom=padding_size, \n",
    "        left=padding_size, \n",
    "        right=padding_size, \n",
    "        borderType=cv2.BORDER_CONSTANT, \n",
    "        value=[255, 255, 255]  # Colore bianco\n",
    "    )\n",
    "    return padded_image"
   ]
  },
  {
   "cell_type": "code",
   "execution_count": 4,
   "metadata": {},
   "outputs": [],
   "source": [
    "for image in images:\n",
    "    img = cv2.imread(str(image),-1)\n",
    "    \n",
    "    image_copy = img.copy()\n",
    "    # Inverti i colori: il nero diventa bianco e il rosso diventa nero\n",
    "    inverted_image = cv2.bitwise_not(image_copy)\n",
    "    # Converte i colori in scala di grigi (il rosso risulta più scuro, ovvero nero dopo l'inversione)\n",
    "    gray_image = cv2.cvtColor(inverted_image, cv2.COLOR_BGR2GRAY)\n",
    "    # Binarizzazione: tutto ciò che non è bianco (sfondo originale) diventa nero\n",
    "    _, cropped_image = cv2.threshold(\n",
    "        gray_image, 200, 255, cv2.THRESH_BINARY\n",
    "    )\n",
    "    cropped_image = add_padding(cropped_image, padding_size=10)\n",
    "    cv2.imwrite(str(dpath.joinpath(image.name)),cropped_image)"
   ]
  }
 ],
 "metadata": {
  "kernelspec": {
   "display_name": "yolo",
   "language": "python",
   "name": "python3"
  },
  "language_info": {
   "codemirror_mode": {
    "name": "ipython",
    "version": 3
   },
   "file_extension": ".py",
   "mimetype": "text/x-python",
   "name": "python",
   "nbconvert_exporter": "python",
   "pygments_lexer": "ipython3",
   "version": "3.11.8"
  }
 },
 "nbformat": 4,
 "nbformat_minor": 2
}
