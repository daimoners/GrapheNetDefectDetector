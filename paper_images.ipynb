{
 "cells": [
  {
   "cell_type": "code",
   "execution_count": 7,
   "metadata": {},
   "outputs": [],
   "source": [
    "from PIL import Image\n",
    "import numpy as np\n",
    "\n",
    "def convert_colors(image_path, output_path):\n",
    "    # Apri l'immagine e convertila in array NumPy\n",
    "    img = Image.open(image_path).convert(\"RGB\")\n",
    "    data = np.array(img)\n",
    "    \n",
    "    # Definisci i colori\n",
    "    black = [0, 0, 0]\n",
    "    white = [255, 255, 255]\n",
    "    red = [255, 0, 0]\n",
    "    blue = [6, 0, 173]\n",
    "    \n",
    "    # Crea una maschera per i pixel neri e cambiali in bianchi\n",
    "    black_mask = np.all(data == black, axis=-1)\n",
    "    red_mask = np.all(data == red, axis=-1)\n",
    "    data[black_mask] = red\n",
    "    \n",
    "    # Crea una maschera per i pixel rossi e cambiali in neri\n",
    "    data[red_mask] = blue\n",
    "    \n",
    "    # Converti l'array NumPy modificato di nuovo in immagine e salva\n",
    "    new_img = Image.fromarray(data)\n",
    "    new_img.save(output_path)\n",
    "\n",
    "# Esempio di utilizzo\n",
    "convert_colors(\"./test_crop.png\", \"./output_image.png\")\n"
   ]
  }
 ],
 "metadata": {
  "kernelspec": {
   "display_name": "yolo",
   "language": "python",
   "name": "python3"
  },
  "language_info": {
   "codemirror_mode": {
    "name": "ipython",
    "version": 3
   },
   "file_extension": ".py",
   "mimetype": "text/x-python",
   "name": "python",
   "nbconvert_exporter": "python",
   "pygments_lexer": "ipython3",
   "version": "3.10.14"
  }
 },
 "nbformat": 4,
 "nbformat_minor": 2
}
