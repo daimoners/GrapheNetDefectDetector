{
 "cells": [
  {
   "cell_type": "code",
   "execution_count": 3,
   "metadata": {
    "metadata": {}
   },
   "outputs": [],
   "source": [
    "import json \n",
    "from pathlib import Path\n",
    "import pandas as pd\n",
    "import os\n"
   ]
  },
  {
   "cell_type": "code",
   "execution_count": 4,
   "metadata": {
    "metadata": {}
   },
   "outputs": [],
   "source": [
    "directory = './data/json_files/'\n",
    "\n",
    "# Lista delle chiavi selezionate per le colonne CSV\n",
    "selected_keys = ['file_name', 'n_electrons', 'fermi_level_ev', \"total_energy_eV\",\"total_energy_eV_-1\",\"total_energy_eV_+1\", \"IP_ev\",\"EA_ev\",\"band_gap_ev\"]\n",
    "\n",
    "# Lista per tenere traccia di tutti i dizionari da tutti i file JSON\n",
    "data_list = []\n",
    "\n",
    "# Scansiona tutti i file nella cartella JSON\n",
    "for filename in os.listdir(directory):\n",
    "    if filename.endswith('.json'):\n",
    "        with open(os.path.join(directory, filename), 'r') as file:\n",
    "            data = json.load(file)\n",
    "            # Seleziona solo le chiavi desiderate\n",
    "            selected_data = {key: data[key] for key in selected_keys}\n",
    "            data_list.append(selected_data)\n",
    "\n",
    "# Converti la lista di dizionari in un DataFrame\n",
    "df = pd.DataFrame(data_list)\n",
    "\n",
    "df['file_name'] = df['file_name'].str.slice(0, -4)\n",
    "\n",
    "# Esporta il DataFrame in un file CSV\n",
    "df.to_csv('target_graphene_dftb.csv', index=False)"
   ]
  },
  {
   "cell_type": "code",
   "execution_count": null,
   "metadata": {},
   "outputs": [],
   "source": [
    "df.head()"
   ]
  },
  {
   "cell_type": "code",
   "execution_count": null,
   "metadata": {},
   "outputs": [],
   "source": []
  }
 ],
 "metadata": {
  "kernelspec": {
   "display_name": "stm",
   "language": "python",
   "name": "python3"
  },
  "language_info": {
   "codemirror_mode": {
    "name": "ipython",
    "version": 3
   },
   "file_extension": ".py",
   "mimetype": "text/x-python",
   "name": "python",
   "nbconvert_exporter": "python",
   "pygments_lexer": "ipython3",
   "version": "3.10.13"
  }
 },
 "nbformat": 4,
 "nbformat_minor": 2
}
