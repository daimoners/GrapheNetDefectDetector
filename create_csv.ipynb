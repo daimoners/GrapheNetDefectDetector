{
 "cells": [
  {
   "cell_type": "code",
   "execution_count": 1,
   "metadata": {
    "metadata": {}
   },
   "outputs": [],
   "source": [
    "import json \n",
    "from pathlib import Path\n",
    "import pandas as pd\n",
    "import os\n"
   ]
  },
  {
   "cell_type": "code",
   "execution_count": 3,
   "metadata": {
    "metadata": {}
   },
   "outputs": [],
   "source": [
    "directory = './data/json_files/'\n",
    "\n",
    "# Lista delle chiavi selezionate per le colonne CSV\n",
    "selected_keys = ['file_name', 'n_electrons', 'fermi_level_ev', \"total_energy_eV\",\"total_energy_eV_-1\",\"total_energy_eV_+1\", \"IP_ev\",\"EA_ev\",\"band_gap_ev\"]\n",
    "\n",
    "# Lista per tenere traccia di tutti i dizionari da tutti i file JSON\n",
    "data_list = []\n",
    "\n",
    "# Scansiona tutti i file nella cartella JSON\n",
    "for filename in os.listdir(directory):\n",
    "    if filename.endswith('.json'):\n",
    "        with open(os.path.join(directory, filename), 'r') as file:\n",
    "            data = json.load(file)\n",
    "            # Seleziona solo le chiavi desiderate\n",
    "            selected_data = {key: data[key] for key in selected_keys}\n",
    "            data_list.append(selected_data)\n",
    "\n",
    "# Converti la lista di dizionari in un DataFrame\n",
    "df = pd.DataFrame(data_list)\n",
    "\n",
    "df['file_name'] = df['file_name'].str.slice(0, -4)\n",
    "\n",
    "# Esporta il DataFrame in un file CSV\n",
    "df.to_csv('./data/target_graphene_dftb.csv', index=False)"
   ]
  },
  {
   "cell_type": "code",
   "execution_count": 4,
   "metadata": {},
   "outputs": [
    {
     "data": {
      "text/html": [
       "<div>\n",
       "<style scoped>\n",
       "    .dataframe tbody tr th:only-of-type {\n",
       "        vertical-align: middle;\n",
       "    }\n",
       "\n",
       "    .dataframe tbody tr th {\n",
       "        vertical-align: top;\n",
       "    }\n",
       "\n",
       "    .dataframe thead th {\n",
       "        text-align: right;\n",
       "    }\n",
       "</style>\n",
       "<table border=\"1\" class=\"dataframe\">\n",
       "  <thead>\n",
       "    <tr style=\"text-align: right;\">\n",
       "      <th></th>\n",
       "      <th>file_name</th>\n",
       "      <th>n_electrons</th>\n",
       "      <th>fermi_level_ev</th>\n",
       "      <th>total_energy_eV</th>\n",
       "      <th>total_energy_eV_-1</th>\n",
       "      <th>total_energy_eV_+1</th>\n",
       "      <th>IP_ev</th>\n",
       "      <th>EA_ev</th>\n",
       "      <th>band_gap_ev</th>\n",
       "    </tr>\n",
       "  </thead>\n",
       "  <tbody>\n",
       "    <tr>\n",
       "      <th>0</th>\n",
       "      <td>graphene_67815</td>\n",
       "      <td>822.0</td>\n",
       "      <td>-5.0635</td>\n",
       "      <td>-20126.2442</td>\n",
       "      <td>-20131.2175</td>\n",
       "      <td>-20121.1256</td>\n",
       "      <td>4.9733</td>\n",
       "      <td>-5.1186</td>\n",
       "      <td>-10.0919</td>\n",
       "    </tr>\n",
       "    <tr>\n",
       "      <th>1</th>\n",
       "      <td>graphene_369532</td>\n",
       "      <td>878.0</td>\n",
       "      <td>-5.0221</td>\n",
       "      <td>-21537.6974</td>\n",
       "      <td>-21542.6543</td>\n",
       "      <td>-21532.6047</td>\n",
       "      <td>4.9569</td>\n",
       "      <td>-5.0927</td>\n",
       "      <td>-10.0496</td>\n",
       "    </tr>\n",
       "    <tr>\n",
       "      <th>2</th>\n",
       "      <td>graphene_84767</td>\n",
       "      <td>862.0</td>\n",
       "      <td>-5.1747</td>\n",
       "      <td>-21073.5377</td>\n",
       "      <td>-21078.7122</td>\n",
       "      <td>-21068.2546</td>\n",
       "      <td>5.1745</td>\n",
       "      <td>-5.2831</td>\n",
       "      <td>-10.4576</td>\n",
       "    </tr>\n",
       "    <tr>\n",
       "      <th>3</th>\n",
       "      <td>graphene_231804</td>\n",
       "      <td>948.0</td>\n",
       "      <td>-4.9260</td>\n",
       "      <td>-23224.2275</td>\n",
       "      <td>-23229.0604</td>\n",
       "      <td>-23219.2611</td>\n",
       "      <td>4.8329</td>\n",
       "      <td>-4.9664</td>\n",
       "      <td>-9.7993</td>\n",
       "    </tr>\n",
       "    <tr>\n",
       "      <th>4</th>\n",
       "      <td>graphene_34381</td>\n",
       "      <td>970.0</td>\n",
       "      <td>-4.9438</td>\n",
       "      <td>-23781.5644</td>\n",
       "      <td>-23786.4359</td>\n",
       "      <td>-23776.5110</td>\n",
       "      <td>4.8715</td>\n",
       "      <td>-5.0534</td>\n",
       "      <td>-9.9249</td>\n",
       "    </tr>\n",
       "  </tbody>\n",
       "</table>\n",
       "</div>"
      ],
      "text/plain": [
       "         file_name  n_electrons  fermi_level_ev  total_energy_eV  \\\n",
       "0   graphene_67815        822.0         -5.0635      -20126.2442   \n",
       "1  graphene_369532        878.0         -5.0221      -21537.6974   \n",
       "2   graphene_84767        862.0         -5.1747      -21073.5377   \n",
       "3  graphene_231804        948.0         -4.9260      -23224.2275   \n",
       "4   graphene_34381        970.0         -4.9438      -23781.5644   \n",
       "\n",
       "   total_energy_eV_-1  total_energy_eV_+1   IP_ev   EA_ev  band_gap_ev  \n",
       "0         -20131.2175         -20121.1256  4.9733 -5.1186     -10.0919  \n",
       "1         -21542.6543         -21532.6047  4.9569 -5.0927     -10.0496  \n",
       "2         -21078.7122         -21068.2546  5.1745 -5.2831     -10.4576  \n",
       "3         -23229.0604         -23219.2611  4.8329 -4.9664      -9.7993  \n",
       "4         -23786.4359         -23776.5110  4.8715 -5.0534      -9.9249  "
      ]
     },
     "execution_count": 4,
     "metadata": {},
     "output_type": "execute_result"
    }
   ],
   "source": [
    "df.head()"
   ]
  },
  {
   "cell_type": "code",
   "execution_count": null,
   "metadata": {},
   "outputs": [],
   "source": []
  }
 ],
 "metadata": {
  "kernelspec": {
   "display_name": "stm",
   "language": "python",
   "name": "python3"
  },
  "language_info": {
   "codemirror_mode": {
    "name": "ipython",
    "version": 3
   },
   "file_extension": ".py",
   "mimetype": "text/x-python",
   "name": "python",
   "nbconvert_exporter": "python",
   "pygments_lexer": "ipython3",
   "version": "3.10.14"
  }
 },
 "nbformat": 4,
 "nbformat_minor": 2
}
