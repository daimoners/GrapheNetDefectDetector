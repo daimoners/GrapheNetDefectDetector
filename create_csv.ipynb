{
   "cells": [
      {
         "cell_type": "code",
         "execution_count": 5,
         "metadata": {
            "metadata": {}
         },
         "outputs": [],
         "source": [
            "import json \n",
            "from pathlib import Path\n",
            "import pandas as pd\n",
            "import os\n",
            "import re\n",
            "from tqdm import tqdm\n",
            "import cv2\n"
         ]
      },
      {
         "cell_type": "code",
         "execution_count": 6,
         "metadata": {},
         "outputs": [],
         "source": [
            "def sort_key(filename, alphabetic_stem:str=\"graphene\"):\n",
            "    regex_pattern = \"{}_(\\d+)\".format(alphabetic_stem)\n",
            "    match = re.match(regex_pattern, filename)\n",
            "    \n",
            "    #match = re.match(r'graphene_(\\d+)', filename)\n",
            "    if match:\n",
            "        return int(match.group(1))\n",
            "    else:\n",
            "        return filename"
         ]
      },
      {
         "cell_type": "code",
         "execution_count": 7,
         "metadata": {},
         "outputs": [],
         "source": [
            "def get_flake_total_area(image_path: Path) -> int:\n",
            "    img = cv2.imread(str(image_path))\n",
            "    \n",
            "    if len(img.shape)==2:\n",
            "        h, w = img.shape\n",
            "    elif len(img.shape)==3:\n",
            "        h, w, _ = img.shape\n",
            "\n",
            "    return h * w"
         ]
      },
      {
         "cell_type": "code",
         "execution_count": 8,
         "metadata": {},
         "outputs": [
            {
               "name": "stderr",
               "output_type": "stream",
               "text": [
                  "100%|██████████| 8750/8750 [01:43<00:00, 84.83it/s] \n"
               ]
            }
         ],
         "source": [
            "directory = Path('./data_total_no_1/json_files/')\n",
            "images = Path('./data_total_no_1/images/')\n",
            "transport_output = Path('./data_total_no_1/transport_output/')\n",
            "selected_keys = ['file_name', 'n_electrons', 'fermi_level_ev', \"total_energy_eV\",\"total_energy_eV_-1\",\"total_energy_eV_+1\", \"IP_ev\",\"EA_ev\",\"band_gap_ev\"]\n",
            "\n",
            "# Lista per tenere traccia di tutti i dizionari da tutti i file JSON\n",
            "data_list = []\n",
            "\n",
            "files = [f for f in directory.iterdir() if f.suffix.lower() ==\".json\"]\n",
            "\n",
            "sorted_files= sorted(files, key=lambda x: sort_key(x.name))\n",
            "\n",
            "for file in tqdm(sorted_files):\n",
            "    with open(str(file), 'r') as f:\n",
            "        data = json.load(f)\n",
            "        \n",
            "        # Seleziona solo le chiavi desiderate\n",
            "        selected_data = {key: data[key] for key in selected_keys}\n",
            "    try:\n",
            "        with open(str(transport_output.joinpath(f\"{file.stem[:-4]}_e.json\")), 'r') as f:\n",
            "            data = json.load(f)\n",
            "        \n",
            "            selected_data[\"current\"] = data[\"current\"]\n",
            "        \n",
            "        selected_data[\"flake_total_area\"] = get_flake_total_area(images.joinpath(f\"{file.stem[:-4]}_opt.png\"))\n",
            "            \n",
            "    except FileNotFoundError:\n",
            "        continue\n",
            "        \n",
            "    data_list.append(selected_data)\n",
            "        \n",
            "        \n",
            "df = pd.DataFrame(data_list)\n",
            "\n",
            "df['file_name'] = df['file_name'].str.slice(0, -4)\n",
            "\n",
            "# Esporta il DataFrame in un file CSV\n",
            "df.to_csv('./data_total_no_1/xyz_files/target_graphene_dftb.csv', index=False)\n"
         ]
      }
   ],
   "metadata": {
      "kernelspec": {
         "display_name": "stm",
         "language": "python",
         "name": "python3"
      },
      "language_info": {
         "codemirror_mode": {
            "name": "ipython",
            "version": 3
         },
         "file_extension": ".py",
         "mimetype": "text/x-python",
         "name": "python",
         "nbconvert_exporter": "python",
         "pygments_lexer": "ipython3",
         "version": "3.10.13"
      }
   },
   "nbformat": 4,
   "nbformat_minor": 2
}
