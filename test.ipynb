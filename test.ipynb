{
 "cells": [
  {
   "cell_type": "code",
   "execution_count": 1,
   "metadata": {},
   "outputs": [],
   "source": [
    "try:\n",
    "    from pathlib import Path\n",
    "    import pandas as pd\n",
    "    import matplotlib.pyplot as plt\n",
    "    from lib.lib_utils import Utils\n",
    "    import seaborn as sns\n",
    "    from lib.lib_defect_analysis import Features\n",
    "    from tqdm import tqdm\n",
    "    import matplotlib.pyplot as plt\n",
    "    import numpy as np\n",
    "    from sklearn import ensemble\n",
    "    from sklearn.inspection import permutation_importance\n",
    "    from sklearn.metrics import mean_squared_error\n",
    "    from sklearn.model_selection import train_test_split\n",
    "    from sklearn.preprocessing import MinMaxScaler\n",
    "    import scipy\n",
    "    import xgboost as xgb\n",
    "    from sklearn.metrics import mean_squared_error, mean_absolute_error, r2_score\n",
    "    from tqdm import tqdm\n",
    "    from matplotlib.ticker import MaxNLocator\n",
    "    import cv2\n",
    "except Exception as e:\n",
    "    print(f\"Some module are missing: {e}\\n\")"
   ]
  },
  {
   "cell_type": "code",
   "execution_count": 2,
   "metadata": {},
   "outputs": [],
   "source": [
    "data_path = Path().resolve().joinpath(\"data\")\n",
    "yolo_model_path = data_path.joinpath(\"models\", \"best.pt\")\n",
    "images_path = Path(\"./test/images\")\n",
    "crops_path = Path(\"./test/crops\")\n",
    "plt.style.use(\"seaborn-v0_8-paper\")"
   ]
  },
  {
   "cell_type": "code",
   "execution_count": 5,
   "metadata": {},
   "outputs": [
    {
     "data": {
      "text/plain": [
       "True"
      ]
     },
     "execution_count": 5,
     "metadata": {},
     "output_type": "execute_result"
    }
   ],
   "source": [
    "img = cv2.imread(\"/home/tom/git_workspace/GrapheNetDefectDetector/test/images/final_fixed_dilated.png\", 0)\n",
    "img = cv2.bitwise_not(img)\n",
    "cv2.imwrite(\"/home/tom/git_workspace/GrapheNetDefectDetector/test/images/final_fixed_dilated_2.png\",img)"
   ]
  },
  {
   "cell_type": "code",
   "execution_count": 7,
   "metadata": {},
   "outputs": [
    {
     "name": "stderr",
     "output_type": "stream",
     "text": [
      "  0%|          | 0/4 [00:00<?, ?it/s]"
     ]
    },
    {
     "name": "stderr",
     "output_type": "stream",
     "text": [
      "100%|██████████| 4/4 [00:00<00:00, 42.50it/s]\n"
     ]
    }
   ],
   "source": [
    "Utils.generate_yolo_crops(\n",
    "    images_path, crops_path, yolo_model_path, binary_mask=True, device=\"cpu\", confidence = 0.75\n",
    ")"
   ]
  }
 ],
 "metadata": {
  "kernelspec": {
   "display_name": "yolo",
   "language": "python",
   "name": "python3"
  },
  "language_info": {
   "codemirror_mode": {
    "name": "ipython",
    "version": 3
   },
   "file_extension": ".py",
   "mimetype": "text/x-python",
   "name": "python",
   "nbconvert_exporter": "python",
   "pygments_lexer": "ipython3",
   "version": "3.10.14"
  }
 },
 "nbformat": 4,
 "nbformat_minor": 2
}
